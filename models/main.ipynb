{
 "cells": [
  {
   "cell_type": "code",
   "execution_count": 43,
   "metadata": {},
   "outputs": [],
   "source": [
    "# For T5 Models\n",
    "\n",
    "# %pip install sentencepiece\n",
    "\n",
    "# from transformers import RobertaTokenizer, T5Tokenizer, T5ForConditionalGeneration\n",
    "\n",
    "# # Load T5\n",
    "# tokenizer = T5Tokenizer.from_pretrained('t5-base')\n",
    "# model = T5ForConditionalGeneration.from_pretrained('t5-base')\n",
    "\n",
    "# # Load Flan-T5\n",
    "# tokenizer = T5Tokenizer.from_pretrained(\"google/flan-t5-base\")\n",
    "# model = T5ForConditionalGeneration.from_pretrained(\"google/flan-t5-base\")\n",
    "\n",
    "# # Load CodeT5\n",
    "# tokenizer = RobertaTokenizer.from_pretrained('Salesforce/codet5-base')\n",
    "# model = T5ForConditionalGeneration.from_pretrained('Salesforce/codet5-base')\n"
   ]
  },
  {
   "cell_type": "code",
   "execution_count": 44,
   "metadata": {},
   "outputs": [],
   "source": [
    "from transformers import GPT2Tokenizer, GPT2LMHeadModel\n",
    "\n",
    "tokenizer = GPT2Tokenizer.from_pretrained('gpt2')\n",
    "model = GPT2LMHeadModel.from_pretrained('gpt2')\n"
   ]
  },
  {
   "cell_type": "code",
   "execution_count": 45,
   "metadata": {},
   "outputs": [],
   "source": [
    "import json\n"
   ]
  },
  {
   "cell_type": "code",
   "execution_count": 46,
   "metadata": {},
   "outputs": [],
   "source": [
    "# Load JSON data\n",
    "with open('sample_problem.json', 'r') as file:\n",
    "    problem_data = json.load(file)\n"
   ]
  },
  {
   "cell_type": "code",
   "execution_count": 47,
   "metadata": {},
   "outputs": [],
   "source": [
    "# Sample user submission\n",
    "user_submission = '''\n",
    "    Create a count for each character in the string.\n",
    "    For each character:\n",
    "    Convert it to lowercase.\n",
    "    Count how many times it appears.\n",
    "    Set total_length to 0 and odd_count to 0.\n",
    "    For each character count:\n",
    "    Add the even part of the count to total_length.\n",
    "    If the count is odd, add 1 to odd_count.\n",
    "    If odd_count is greater than 0, add 1 to total_length.\n",
    "    Return total_length.\n",
    "'''\n"
   ]
  },
  {
   "cell_type": "code",
   "execution_count": 48,
   "metadata": {},
   "outputs": [],
   "source": [
    "# Define the feedback template\n",
    "feedback_template = '''\n",
    "    {\n",
    "        \"title\": \"Analysis of User Submission\",\n",
    "        \"analysis\": \"Detailed analysis of the user's approach.\",\n",
    "        \"summary\": \"Concise summary of the user's approach and correctness.\",\n",
    "        \"score\": \"An integer score: 1 (incorrect), 2 (partially correct), 3 (correct).\"\n",
    "    }\n",
    "'''\n",
    "\n",
    "# Define the prompt\n",
    "prompt = f'''\n",
    "    You are a professor who specializes in solving code problems.\n",
    "    The user will submit, in words, their approach to solving the problem.\n",
    "    Analyze the user's submission and provide feedback.\n",
    "\n",
    "    Output your feedback in JSON format with the following structure:\n",
    "    {feedback_template}\n",
    "\n",
    "    Here are the problem details:\n",
    "\n",
    "    Category: {problem_data['category']}\n",
    "    Subcategory: {problem_data['subcategory']}\n",
    "    Difficulty: {problem_data['difficulty']}\n",
    "    Title: {problem_data['title']}\n",
    "    Description: {problem_data['description']}\n",
    "    Constraints: \n",
    "    {'\\n'.join([f'{constraint}' for constraint in problem_data['constraints']])}\n",
    "\n",
    "    Examples:\n",
    "    {'\\n'.join([f'Input: {example[\"input\"]}, Output: {example[\"output\"]}, Explanation: {example[\"explanation\"]}' for example in problem_data['examples']])}\n",
    "\n",
    "    Here is the user's submission:\n",
    "    {user_submission}\n",
    "\n",
    "    Ensure your response is coherent and follows the JSON structure provided.\n",
    "\n",
    "    For example:\n",
    "    Output = {\n",
    "        \"title\": \"User Submission Feedback\",\n",
    "        \"analysis\": \"The user's approach correctly identifies the need to count character occurrences. However, the submission lacks specific details on how to handle both uppercase and lowercase characters separately, which is crucial for the problem. Additionally, it should mention how to use the counts to form the palindrome.\",\n",
    "        \"summary\": \"The user has a good foundational understanding of the problem but misses some critical details in handling case sensitivity and palindrome construction.\",\n",
    "        \"score\": 2\n",
    "    }\n",
    "'''\n",
    "\n",
    "# prompt = \"Can you summarize the capabilities of language models, including tasks such as summarization, question answering, and text generation?\"\n",
    "\n",
    "# Set pad_token to eos_token\n",
    "tokenizer.pad_token = tokenizer.eos_token\n",
    "\n",
    "# Tokenize the prompt and set attention mask\n",
    "encoded_input = tokenizer(prompt, return_tensors='pt', padding=True, truncation=True)\n"
   ]
  },
  {
   "cell_type": "code",
   "execution_count": 49,
   "metadata": {},
   "outputs": [
    {
     "name": "stderr",
     "output_type": "stream",
     "text": [
      "Setting `pad_token_id` to `eos_token_id`:50256 for open-end generation.\n",
      "Both `max_new_tokens` (=50) and `max_length`(=250) seem to have been set. `max_new_tokens` will take precedence. Please refer to the documentation for more information. (https://huggingface.co/docs/transformers/main/en/main_classes/text_generation)\n"
     ]
    },
    {
     "name": "stdout",
     "output_type": "stream",
     "text": [
      "\n",
      "    You are a professor who specializes in solving code problems.\n",
      "    The user will submit, in words, their approach to solving the problem.\n",
      "    Analyze the user's submission and provide feedback.\n",
      "\n",
      "    Output your feedback in JSON format with the following structure:\n",
      "    \n",
      "    {\n",
      "        \"title\": \"Analysis of User Submission\",\n",
      "        \"analysis\": \"Detailed analysis of the user's approach.\",\n",
      "        \"summary\": \"Concise summary of the user's approach and correctness.\",\n",
      "        \"score\": \"An integer score: 1 (incorrect), 2 (partially correct), 3 (correct).\"\n",
      "    }\n",
      "\n",
      "\n",
      "    Here are the problem details:\n",
      "\n",
      "    Category: manipulations\n",
      "    Subcategory: strings\n",
      "    Difficulty: easy\n",
      "    Title: Longest Palindrome\n",
      "    Description: Given a string s which consists of lowercase or uppercase letters, return the length of the longest palindrome that can be built with those letters. Letters are case sensitive, for example, 'Aa' is not considered a palindrome.\n",
      "    Constraints: \n",
      "    - 1 <= s.length <= 2000\n",
      "- s consists of lowercase and/or uppercase English letters only.\n",
      "\n",
      "    Examples:\n",
      "    - Input: abccccdd, Output: 7, Explanation: One longest palindrome that can be built is 'dccaccd', whose length is 7.\n",
      "- Input: a, Output: 1, Explanation: The longest palindrome that can be built is 'a', whose length is 1.\n",
      "\n",
      "    Here is the user's submission:\n",
      "    \n",
      "    Create a count for each character in the string.\n",
      "    For each character:\n",
      "    Convert it to lowercase.\n",
      "    Count how many times it appears.\n",
      "    Set total_length to 0 and odd_count to 0.\n",
      "    For each character count:\n",
      "    Add the even part of the count to total_length.\n",
      "    If the count is odd, add 1 to odd_count.\n",
      "    If odd_count is greater than 0, add 1 to total_length.\n",
      "    Return total_length.\n",
      "\n",
      "\n",
      "    Ensure your response is coherent and follows the JSON structure provided.\n",
      ".\\s*{c}, \\S^{\\sum_{i=1}}^{n}\\,.+$ : To avoid any confusion over what exactly you want from an input data set this function should also include one parameter as well such if\n"
     ]
    }
   ],
   "source": [
    "# Generate feedback with attention mask\n",
    "output_ids = model.generate(\n",
    "    input_ids=encoded_input['input_ids'],\n",
    "    attention_mask=encoded_input['attention_mask'],\n",
    "    max_length=250,\n",
    "    max_new_tokens=50,\n",
    "    do_sample=True,\n",
    "    temperature=0.5,\n",
    "    top_k=50,\n",
    "    top_p=0.95,\n",
    "    repetition_penalty = 5.0\n",
    ")\n",
    "\n",
    "# Decode the output\n",
    "feedback_response = tokenizer.decode(output_ids[0], skip_special_tokens=True)\n",
    "print(feedback_response)\n"
   ]
  }
 ],
 "metadata": {
  "kernelspec": {
   "display_name": ".venv",
   "language": "python",
   "name": "python3"
  },
  "language_info": {
   "codemirror_mode": {
    "name": "ipython",
    "version": 3
   },
   "file_extension": ".py",
   "mimetype": "text/x-python",
   "name": "python",
   "nbconvert_exporter": "python",
   "pygments_lexer": "ipython3",
   "version": "3.12.5"
  }
 },
 "nbformat": 4,
 "nbformat_minor": 2
}
