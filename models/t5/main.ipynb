{
 "cells": [
  {
   "cell_type": "code",
   "execution_count": 7,
   "metadata": {},
   "outputs": [],
   "source": [
    "import json\n",
    "from transformers import T5Tokenizer, T5ForConditionalGeneration\n"
   ]
  },
  {
   "cell_type": "code",
   "execution_count": 8,
   "metadata": {},
   "outputs": [],
   "source": [
    "# Load the pre-trained tokenizer and model\n",
    "tokenizer = T5Tokenizer.from_pretrained('t5-base')\n",
    "model = T5ForConditionalGeneration.from_pretrained('t5-base')\n"
   ]
  },
  {
   "cell_type": "code",
   "execution_count": 9,
   "metadata": {},
   "outputs": [],
   "source": [
    "# Load JSON data\n",
    "with open('../sample_problem.json', 'r') as file:\n",
    "    problem_data = json.load(file)\n"
   ]
  },
  {
   "cell_type": "code",
   "execution_count": 10,
   "metadata": {},
   "outputs": [],
   "source": [
    "# Sample user submission\n",
    "user_submission = '''\n",
    "    first map all char in s, counting their frequency.\n",
    "    for each key, find number of char that appear odd times, (odds).\n",
    "    return length of s and subtract odds - 1.\n",
    "'''\n"
   ]
  },
  {
   "cell_type": "code",
   "execution_count": 11,
   "metadata": {},
   "outputs": [],
   "source": [
    "# Define the prompt\n",
    "prompt = f'''\n",
    "You are a code problem-solving professor that evaluates the user's submission (coding approach and/or pseudocode) based on a given problem. \n",
    "\n",
    "Problem details:\n",
    "Category: {problem_data['category']}\n",
    "Subcategory: {problem_data['subcategory']}\n",
    "Difficulty: {problem_data['difficulty']}\n",
    "Title: {problem_data['title']}\n",
    "Description: {problem_data['description']}\n",
    "Constraints: \n",
    "{'\\n'.join([f'- {constraint}' for constraint in problem_data['constraints']])}\n",
    "\n",
    "Examples:\n",
    "{'\\n'.join([f'- Input: {example[\"input\"]}, Output: {example[\"output\"]}, Explanation: {example[\"explanation\"]}' for example in problem_data['examples']])}\n",
    "\n",
    "User's submission: \n",
    "{user_submission}\n",
    "\n",
    "Please provide feedback on the user's approach in JSON format with the following fields:\n",
    "- title: A short title for the response.\n",
    "- analysis: A detailed analysis of the user's approach.\n",
    "- summary: A one paragraph summary of the analysis.\n",
    "- score: An integer score (1 for Incorrect, 2 for Partially Correct, 3 for Correct).\n",
    "'''\n",
    "\n",
    "# Tokenize the prompt\n",
    "input_ids = tokenizer(prompt, return_tensors=\"pt\").input_ids\n"
   ]
  },
  {
   "cell_type": "code",
   "execution_count": 12,
   "metadata": {},
   "outputs": [
    {
     "name": "stdout",
     "output_type": "stream",
     "text": [
      "s is a string containing lowercase and/or uppercase letters only. it is not case sensitive, for example, 'Aa' is not considered a palindrome.\n"
     ]
    }
   ],
   "source": [
    "# Generate feedback\n",
    "output_ids = model.generate(input_ids=input_ids, max_length=250)\n",
    "\n",
    "# Decode the output\n",
    "feedback_response = tokenizer.decode(output_ids[0], skip_special_tokens=True)\n",
    "print(feedback_response)\n"
   ]
  }
 ],
 "metadata": {
  "kernelspec": {
   "display_name": ".venv",
   "language": "python",
   "name": "python3"
  },
  "language_info": {
   "codemirror_mode": {
    "name": "ipython",
    "version": 3
   },
   "file_extension": ".py",
   "mimetype": "text/x-python",
   "name": "python",
   "nbconvert_exporter": "python",
   "pygments_lexer": "ipython3",
   "version": "3.12.5"
  }
 },
 "nbformat": 4,
 "nbformat_minor": 2
}
